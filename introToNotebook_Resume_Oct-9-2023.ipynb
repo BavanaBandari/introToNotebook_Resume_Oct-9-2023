{
 "cells": [
  {
   "cell_type": "markdown",
   "id": "60eab6cd",
   "metadata": {},
   "source": [
    "<u>**<center>Resume</center>**</u>"
   ]
  },
  {
   "cell_type": "markdown",
   "id": "135713b3",
   "metadata": {},
   "source": [
    "![](https://media.licdn.com/dms/image/D5603AQG9ZVy7weF1Qg/profile-displayphoto-shrink_400_400/0/1696868354629?e=1702512000&v=beta&t=34p-jMGOToVgkovbiEf7LgM1d9QQjLVU35fn_J2scww)"
   ]
  },
  {
   "cell_type": "markdown",
   "id": "3903b480",
   "metadata": {},
   "source": [
    "#### Name: Bavana Bandari\n",
    "#### Phone No: +91xxxxxxxxxxx\n",
    "#### Email Address: bavanabandari1997@gmail.com"
   ]
  },
  {
   "cell_type": "markdown",
   "id": "ab0a7285",
   "metadata": {},
   "source": [
    "### **<u>Career Objective</u>**\n",
    "  To become a significant contributor in an esteemed organization and have the pleasure working with the most competent professionals."
   ]
  },
  {
   "cell_type": "markdown",
   "id": "ec9426a7",
   "metadata": {},
   "source": [
    "### **<u>Professional Summary</u>**\n",
    "\n",
    " * Having 2.5 years of experience in End-to-End IT Recruitment – Technical Recruiter\n",
    " * Handled complete Recruitment Life Cycle (Requirement gathering – Sourcing – Short listing Profiles – Arranging Interviews –      Coordinate with the Technical Team for interview feedback).\n",
    " * Sourcing potential candidates from the various sources - through networking, usage of various job portals & referrals\n",
    " * Sound understanding of requirements under technological preview\n",
    " * Short-listing of candidates and establishing preliminary contact with the same\n",
    " * Obtaining the feedback from the interviewers.\n",
    " * Following up with candidates, and bringing the case to a final closure\n",
    " * Domain: Product, Services, Networking.\n",
    " * Play a key role in sourcing relevant profiles as per the requirement through various Job portals like Naukri,\n",
    "   Shine and social networks.\n",
    " * Know about recruiting Permanent and Contract to Hire (C2H) staffing professionals across various levels.\n",
    " * To Good teamwork and can able to adapt new technologies and environment faster.\n",
    " * Worked on Non-IT positions aswell.\n",
    "\n",
    "   "
   ]
  },
  {
   "cell_type": "markdown",
   "id": "f7074e9e",
   "metadata": {},
   "source": [
    "### **<u>Professional Experience</u>**\n",
    "  Worked as an Technical Recruiter for RSV Group, Hyderabad\n",
    "   from May 2020 to Oct 2022"
   ]
  },
  {
   "cell_type": "markdown",
   "id": "1959d59c",
   "metadata": {},
   "source": [
    "### **<u>Technical Recruiter</u>**\n",
    " * Handled End-to End Recruitment in different technologies based Requirement.\n",
    " * Understanding the requirement completely before proceeding.\n",
    " * Identifying the potential candidates through various sources like job portals and references.\n",
    " * Evaluating the requirements and screening the right profiles before submitting them to the Delivery Manager\n",
    " * Conduct initial interviews through phone in order to judge the candidate's suitability, attitude, academic & professional        qualification, experience, communication skills etc., before forwarding it to the client \n",
    " * Briefing the candidates about the job profile, salary package, organization, etc\n",
    " * Short-listing, scheduling the short listed candidates and interview co-ordinations.\n",
    " * Following up with candidates on joining dates and convincing them if they have any issues such as compensation review,          relocation Etc.\n",
    " * Maintaining a tracker on availability matrix, pre-qualified candidates, and recruited candidates.\n",
    "\n"
   ]
  },
  {
   "cell_type": "markdown",
   "id": "2310e940",
   "metadata": {},
   "source": [
    "### **<u>Academics</u>**\n",
    " * Graduation: ****\n",
    " * Intermediate: ****\n",
    " * SSC: ****"
   ]
  },
  {
   "cell_type": "markdown",
   "id": "d869f932",
   "metadata": {},
   "source": [
    "### **<u>Websites</u>**\n",
    " * Click [Here](https://github.com/BavanaBandari) - GitHub\n",
    " * Click [Here](https://www.linkedin.com/in/bavana-b-685ba4168/) - linkedIn\n",
    " * Click [here](https://medium.com/@bavanabandari1997) - Medium\n",
    " * Click [Here](https://www.kaggle.com/bavanabandari) - Kaggle\n",
    " * Click [Here](https://stackoverflow.com/users/22711171/bavana-bandari) - Stackoverflow"
   ]
  },
  {
   "cell_type": "markdown",
   "id": "2684a961",
   "metadata": {},
   "source": [
    "### **<u>Declaration</u>**\n",
    "  I hereby declare that the above said information is true and correct to the best of my knowledge and nothing has been concealed or distorted."
   ]
  },
  {
   "cell_type": "markdown",
   "id": "8dd74887",
   "metadata": {},
   "source": []
  }
 ],
 "metadata": {
  "kernelspec": {
   "display_name": "Python 3 (ipykernel)",
   "language": "python",
   "name": "python3"
  },
  "language_info": {
   "codemirror_mode": {
    "name": "ipython",
    "version": 3
   },
   "file_extension": ".py",
   "mimetype": "text/x-python",
   "name": "python",
   "nbconvert_exporter": "python",
   "pygments_lexer": "ipython3",
   "version": "3.11.5"
  }
 },
 "nbformat": 4,
 "nbformat_minor": 5
}
